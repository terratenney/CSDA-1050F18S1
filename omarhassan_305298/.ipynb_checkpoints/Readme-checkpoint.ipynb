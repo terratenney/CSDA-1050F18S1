{
 "cells": [
  {
   "cell_type": "markdown",
   "metadata": {},
   "source": [
    "## Podcast listeners client base demographic segmentation using advanced Analytics\n",
    "### by Omar Hassan\n",
    "\n",
    "### Introduction\n",
    "\n",
    "The objective of this repository is to answer the following research question:\n",
    "What are the various podcast listeners characteristic, and demographics segments in the podcast space?\n",
    "\n",
    "### Repository Structure\n",
    "\n"
   ]
  },
  {
   "cell_type": "markdown",
   "metadata": {},
   "source": [
    "Inside the repository you will be able to find jupyter note books that contain the code use to produce the analytics and insights that answers the research question\n",
    "\n",
    "### [Sprint 1 Data Gather and cleaning](https://github.com/omarhassaneg/CSDA-1050F18S1/tree/master/omarhassan_305298/sprint1)\n",
    "\n",
    "This section contain information about data gathering, data cleaning and analysis\n",
    "\n",
    "### [Sprint 2 Modelling](https://github.com/omarhassaneg/CSDA-1050F18S1/tree/master/omarhassan_305298/sprint2)\n",
    "This section contain information about data modelling such Prinicipal component analysis and Kmeans clustering model.\n",
    "\n",
    "### [Sprint 3 Final Report](https://github.com/omarhassaneg/CSDA-1050F18S1/tree/master/omarhassan_305298/sprint3)\n",
    "This section contain final report that discusses the whole project and the final insights we came to produce.\n",
    "\n",
    "### Software requirements\n",
    "You will be able to run the code if you download anaconda and launch jupyter notebook. However, since this is private data, you are not going to be able to leverage the same data set."
   ]
  }
 ],
 "metadata": {
  "kernelspec": {
   "display_name": "Python 3",
   "language": "python",
   "name": "python3"
  },
  "language_info": {
   "codemirror_mode": {
    "name": "ipython",
    "version": 3
   },
   "file_extension": ".py",
   "mimetype": "text/x-python",
   "name": "python",
   "nbconvert_exporter": "python",
   "pygments_lexer": "ipython3",
   "version": "3.7.1"
  }
 },
 "nbformat": 4,
 "nbformat_minor": 2
}
