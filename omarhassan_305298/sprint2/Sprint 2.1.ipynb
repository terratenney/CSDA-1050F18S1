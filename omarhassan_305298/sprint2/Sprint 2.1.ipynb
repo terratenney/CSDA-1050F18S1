{
 "cells": [
  {
   "cell_type": "markdown",
   "metadata": {},
   "source": [
    "# Sprint 2"
   ]
  },
  {
   "cell_type": "markdown",
   "metadata": {},
   "source": [
    "## Podcast listeners client base demographic Segmentation"
   ]
  },
  {
   "cell_type": "markdown",
   "metadata": {},
   "source": [
    "### Sprint 2\n",
    "In this sprint we are going to be continue our data cleaning and using visulaizations to explore our data."
   ]
  },
  {
   "cell_type": "markdown",
   "metadata": {},
   "source": [
    "### What is needed\n",
    "We are going to be using Python as a programing language. We are going to be using the following libararies in Sprint 1:\n",
    "1. Pandas\n",
    "2. Numpy"
   ]
  },
  {
   "cell_type": "markdown",
   "metadata": {},
   "source": [
    "### Summary of Findings\n",
    "\n",
    "1.\tAfter dealing with data set for a period now, we can tell the data is huge and in a very messy complicated format. Data cleaning part is going to be taking longer than expected.\n",
    "2.\tWe need to refine our columns mapping from the dictionary to our data set as dictionary column names are split over unknown number of rows which poses a challenge. Either map the 184 data columns manually or figure out a more sophisticated function to map data properly.\n"
   ]
  },
  {
   "cell_type": "markdown",
   "metadata": {},
   "source": [
    "### Sprint 1 Recape"
   ]
  },
  {
   "cell_type": "code",
   "execution_count": 29,
   "metadata": {},
   "outputs": [
    {
     "name": "stderr",
     "output_type": "stream",
     "text": [
      "C:\\Users\\omarh\\AppData\\Local\\Continuum\\anaconda3\\lib\\site-packages\\IPython\\core\\interactiveshell.py:3020: DtypeWarning: Columns (2) have mixed types. Specify dtype option on import or set low_memory=False.\n",
      "  interactivity=interactivity, compiler=compiler, result=result)\n"
     ]
    }
   ],
   "source": [
    "import pandas as pd\n",
    "import numpy as np\n",
    "\n",
    "# read data to panads \n",
    "data = pd.read_csv(\"C:\\\\users\\\\omarh\\\\downloads\\\\CSDA 1050 Capstone\\\\Project\\\\2018 Data from Jeff\\\\podcast18.csv\") \n",
    "\n",
    "# read and convert data schema mapping into pandas\n",
    "data_schema = pd.read_csv(\"C:\\\\users\\\\omarh\\downloads\\\\CSDA 1050 Capstone\\\\Project\\\\2018 Data from Jeff\\\\data_schema.csv\")\n",
    "\n",
    "#dict of mapping drived from data schema file\n",
    "mapping = {}\n",
    "# getting unique mapping of varible and lable\n",
    "data_schema_unique = data_schema.groupby(['Variable', 'cleaned_label']).size().reset_index(name='Freq')\n",
    "# use mapping dict to create a key value pair with varible as key and lable as value\n",
    "for index, row in data_schema_unique.iterrows():\n",
    "    if row['cleaned_label']:\n",
    "        mapping[row['Variable']] = row['cleaned_label']\n",
    "\n",
    "# use the mapping dict to rename the varibles of data file with our newly created shchema\n",
    "data.rename(columns=mapping,inplace=True)\n",
    "\n",
    "data.head(3);"
   ]
  },
  {
   "cell_type": "code",
   "execution_count": 45,
   "metadata": {},
   "outputs": [],
   "source": [
    "#data_schema.head(10)\n",
    "#export to excel to explore\n",
    "#data_schema.to_csv('data_schema.csv')\n",
    "#data.to_csv('sample_clean.csv')"
   ]
  },
  {
   "cell_type": "code",
   "execution_count": 185,
   "metadata": {},
   "outputs": [],
   "source": [
    "#data.groupby(['arfpr .PROVINCE','arfgen .GENDER','qs2g .FREQUENCY-']).size().reset_index(name='counts');"
   ]
  },
  {
   "cell_type": "code",
   "execution_count": 146,
   "metadata": {},
   "outputs": [],
   "source": [
    "#data transformation test\n",
    "#pd.get_dummies(data, columns=['qs2g .FREQUENCY-']);"
   ]
  },
  {
   "cell_type": "code",
   "execution_count": 30,
   "metadata": {},
   "outputs": [
    {
     "data": {
      "text/plain": [
       "(1534, 583)"
      ]
     },
     "execution_count": 30,
     "metadata": {},
     "output_type": "execute_result"
    }
   ],
   "source": [
    "data.shape"
   ]
  },
  {
   "cell_type": "code",
   "execution_count": 31,
   "metadata": {},
   "outputs": [],
   "source": [
    "#replace all whitespace with NaN values\n",
    "data.replace(' ', np.nan, inplace=True)"
   ]
  },
  {
   "cell_type": "code",
   "execution_count": 32,
   "metadata": {},
   "outputs": [],
   "source": [
    "data.dropna(axis = 1, how= 'all', inplace = True)"
   ]
  },
  {
   "cell_type": "code",
   "execution_count": 33,
   "metadata": {},
   "outputs": [
    {
     "data": {
      "text/plain": [
       "(1534, 399)"
      ]
     },
     "execution_count": 33,
     "metadata": {},
     "output_type": "execute_result"
    }
   ],
   "source": [
    "data.shape"
   ]
  },
  {
   "cell_type": "code",
   "execution_count": 260,
   "metadata": {},
   "outputs": [
    {
     "name": "stdout",
     "output_type": "stream",
     "text": [
      "study                                                                                     0.000000\n",
      "respondent_id                                                                             0.000000\n",
      "region                                                                                    0.000000\n",
      "gender                                                                                    0.000000\n",
      "Age                                                                                       0.000000\n",
      "household_size                                                                            0.000000\n",
      "r entirely responsibl ly in the responsibil household are mostly ponsibility for this     0.000000\n",
      "r entirely responsibl ly in the responsibil household are mostly ponsibility for this     0.000000\n",
      "r entirely responsibl ly in the responsibil household are mostly ponsibility for this     0.000000\n",
      "number_of_kids_inhouse                                                                    0.000000\n",
      "highest_education                                                                         0.000000\n",
      "employment_status                                                                         0.000000\n",
      "salary                                                                                    0.000000\n",
      "occupation                                                                                0.000000\n",
      "qs2a .FREQUENCY- PRINT NEWSPAPERS                                                         0.000000\n",
      "qs2b .FREQUENCY- PRINT MAGAZINES                                                          0.000000\n",
      "qs2c .FREQUENCY- AM/FM RADIO                                                              0.000000\n",
      "qs2d .FREQUENCY- NETWORK OR CABLE TV                                                      0.000000\n",
      "qs2e .FREQUENCY- STREAMING TV SERVICES                                                    0.000000\n",
      "qs2f .FREQUENCY- MUSIC STREAMING SERVICES                                                 0.000000\n",
      "qs2g .FREQUENCY- SOCIAL MEDIA                                                             0.000000\n",
      "qs2h .FREQUENCY- ONLINE NEWS                                                              0.000000\n",
      "qs3 .RECENT EXPERIENCE WITH PODCASTS                                                      0.000000\n",
      "qs4 .FREQ LISTEN TO AUDIO PODCASTS                                                        0.000000\n",
      "qp1a .HOURS TIME LSITENING TYPICAL WEEK                                                   0.000000\n",
      "qp1b .MINUTES TIME LSITENING TYPICAL WEEK                                                 0.000000\n",
      "qp1c .COMBINED TIME LSITENING TYPICAL WEEK                                                0.000000\n",
      "qp2 .PODCAST EPISODES LISTEN PER WEEK                                                     0.000000\n",
      "qp3 .FIRST STARED LSITENTING TO PODCASTS                                                  0.000000\n",
      "qp4tya .PAST MONTH0 - TYPE                                                                2.803129\n",
      "                                                                                           ...    \n",
      "qm3k .ACCESS- CTV NEWS APPS/WEBSITE                                                       0.000000\n",
      "qm3l .ACCESS- GLOBAL NEWS APPS/WEBSITE                                                    0.000000\n",
      "qm3m .ACCESS- APPS/WEBSITES OF RADIO STATIONS OTHER THAN CBC                              0.000000\n",
      "qm3n .ACCESS- APPS/WEBSITES OF RADIO STATIONS OTHER THAN RADIO-CANADA                     0.000000\n",
      "qm3o .ACCESS- RADIO-CANADA APPS/WEBSITE                                                   0.000000\n",
      "qm3p .ACCESS- RDS APPS/WEBSITE                                                            0.000000\n",
      "qm4a .INTEREST1 IN HEARING ABOUT (G&M NEWS PODCAST)                                       0.000000\n",
      "qzm4a .FREQ- CTV NEWS EITHER THEIR LOCAL NEWS THE CTV NATIONAL AND/OR CTV NEWS            0.000000\n",
      "qzm4b .FREQ- CBC TV NEWS EITHER THEIR LOCAL NEWS THE NATIONAL AND/OR THE                  0.000000\n",
      "qzm4c .FREQ- GLOBAL NEWS                                                                  0.000000\n",
      "qzm4d .FREQ- TV NEWS ON TVA                                                               0.000000\n",
      "qzm4e .FREQ- TV NEWS FROM RADIO-CANADA ON EITHER ICI RADIO-CANADA OR THE                  0.000000\n",
      "PanelistCulture                                                                           0.000000\n",
      "<none>                                                                                    9.517601\n",
      "PRIMARY                                                                                  10.299870\n",
      "V455_A                                                                                   10.299870\n",
      "QA1_Advertising_Podcast_1_Code                                                            0.000000\n",
      "<none>                                                                                    0.000000\n",
      "COMPLETED INTERVIEW                                                                       0.000000\n",
      "qp1c .COMBINED TIME LSITENING TYPICAL WEEK                                                0.000000\n",
      "<none>                                                                                    0.000000\n",
      "<none>                                                                                    0.000000\n",
      "<none>                                                                                    0.000000\n",
      "<none>                                                                                    0.000000\n",
      "0                                                                                         0.000000\n",
      "COUNT OF PODCASTS OVER P4                                                                 0.000000\n",
      "FINAL WEIGHT VARIABLE                                                                     0.000000\n",
      "arfgen & AGE WGT CATS                                                                     0.000000\n",
      "EDUCATION WGT CATS                                                                        0.000000\n",
      "REGION WGT CATS                                                                           0.000000\n",
      "Length: 161, dtype: float64\n"
     ]
    }
   ],
   "source": [
    "#viewing columns by % of NaN values\n",
    "print (data.isnull().mean() * 100)"
   ]
  },
  {
   "cell_type": "code",
   "execution_count": 316,
   "metadata": {},
   "outputs": [],
   "source": [
    "data.isna().sum();"
   ]
  },
  {
   "cell_type": "code",
   "execution_count": 45,
   "metadata": {},
   "outputs": [],
   "source": [
    "#print(data.isnull().mean() <= 0.5);"
   ]
  },
  {
   "cell_type": "code",
   "execution_count": 34,
   "metadata": {},
   "outputs": [],
   "source": [
    "#drop columns with 50% NaN or more\n",
    "data = data.loc[:, data.isnull().mean() <= .20]"
   ]
  },
  {
   "cell_type": "code",
   "execution_count": 35,
   "metadata": {},
   "outputs": [
    {
     "data": {
      "text/plain": [
       "(1534, 167)"
      ]
     },
     "execution_count": 35,
     "metadata": {},
     "output_type": "execute_result"
    }
   ],
   "source": [
    "data.shape"
   ]
  },
  {
   "cell_type": "code",
   "execution_count": 273,
   "metadata": {},
   "outputs": [],
   "source": [
    "data.to_csv('data_sample2.csv')"
   ]
  },
  {
   "cell_type": "markdown",
   "metadata": {},
   "source": [
    "# Sprint 2"
   ]
  },
  {
   "cell_type": "code",
   "execution_count": 7,
   "metadata": {},
   "outputs": [],
   "source": [
    "import matplotlib.pyplot as plt\n",
    "import seaborn as sns\n",
    "%matplotlib inline"
   ]
  },
  {
   "cell_type": "markdown",
   "metadata": {},
   "source": [
    "### Observation\n",
    "Upon attempting to rename columns, we discovered that dictionary data set has complete names but they are listed on unknown number of rows.\n",
    "Variable is our csv data column headers and Label is the dictionary equivalent.\n",
    "As you can see row 4 has Variable 'arfrr' and the eqivelant Label is 'arfrr .Region Rollup'. However, row 5 in label contains word 'Province' Which should be part of row 4 Label value.\n"
   ]
  },
  {
   "cell_type": "code",
   "execution_count": 36,
   "metadata": {},
   "outputs": [],
   "source": [
    "#drop unnecessary columns based on domain knowledge\n",
    "data = data.drop(['<none>','0','PanelistCulture','qquotas .QUOTA','arfrr .REGION ROLLUP','qp10ba .PROPORTION- FRENCH LANGUAGE','qp10bb .PROPORTION- ENGLISH LANGUAGE','qp10bc .PROPORTION- ANOTHER LANGUAGE','qp10bd .PROPORTION- TOTAL'],axis=1)"
   ]
  },
  {
   "cell_type": "code",
   "execution_count": 37,
   "metadata": {},
   "outputs": [],
   "source": [
    "#Drop all columns that contain same data (Standard deviation is 0)\n",
    "data = data.drop(data.std()[(data.std() == 0)].index, axis=1)"
   ]
  },
  {
   "cell_type": "code",
   "execution_count": 38,
   "metadata": {},
   "outputs": [],
   "source": [
    " mapping = {data.columns[12]:'salary', data.columns[3]:'gender', data.columns[1]:'respondent_id', data.columns[2]:'region', data.columns[4]:'Age',data.columns[5]:'household_size',data.columns[9]:'number_of_kids_inhouse',data.columns[10]:'highest_education',data.columns[11]:'employment_status',data.columns[13]:'occupation'}\n",
    " data = data.rename(columns=mapping)"
   ]
  },
  {
   "cell_type": "code",
   "execution_count": 39,
   "metadata": {},
   "outputs": [],
   "source": [
    "#replace _ with space in column names\n",
    "data.columns = data.columns.str.strip().str.lower().str.replace(' ', '_').str.replace('(', '').str.replace(')', '')"
   ]
  },
  {
   "cell_type": "code",
   "execution_count": 40,
   "metadata": {},
   "outputs": [
    {
     "data": {
      "text/plain": [
       "(1534, 146)"
      ]
     },
     "execution_count": 40,
     "metadata": {},
     "output_type": "execute_result"
    }
   ],
   "source": [
    "data.shape"
   ]
  },
  {
   "cell_type": "code",
   "execution_count": null,
   "metadata": {},
   "outputs": [],
   "source": [
    "data.to_csv('data_sample2.csv')"
   ]
  },
  {
   "cell_type": "code",
   "execution_count": null,
   "metadata": {},
   "outputs": [],
   "source": [
    "#Extracting Salary value from salary field and removing extra information\n",
    "# data['Salary'] = data['Salary'].str.extract('.*\\((.*)\\).*')"
   ]
  },
  {
   "cell_type": "code",
   "execution_count": null,
   "metadata": {},
   "outputs": [],
   "source": [
    "#attempt to remove columns with duplicate values accorss all rows -- failed.\n",
    "#data = data.loc[:,~data.columns.duplicated()]"
   ]
  },
  {
   "cell_type": "code",
   "execution_count": null,
   "metadata": {},
   "outputs": [],
   "source": [
    "#Attempting to rename columns by their index as their current name is simillar. -- Failed\n",
    "#not working both columns are coming out as Producer and other column too.\n",
    "#rename_dups(data).rename(columns={ \"y.2\": \"Topic\",\"y.3\": \"Producer\" }).to_csv(\"sample_clean.csv\")"
   ]
  },
  {
   "cell_type": "markdown",
   "metadata": {},
   "source": [
    "### Data Visualization"
   ]
  },
  {
   "cell_type": "code",
   "execution_count": 14,
   "metadata": {},
   "outputs": [],
   "source": [
    "#sns.jointplot(x='total_bill',y='tip',data=data,kind='scatter');"
   ]
  },
  {
   "cell_type": "code",
   "execution_count": 25,
   "metadata": {},
   "outputs": [
    {
     "data": {
      "text/plain": [
       "['study',\n",
       " 'respondent_id',\n",
       " 'region',\n",
       " 'gender',\n",
       " 'age',\n",
       " 'household_size',\n",
       " 'r_entirely_responsibl_ly_in_the_responsibil_household_are_mostly_ponsibility_for_this',\n",
       " 'r_entirely_responsibl_ly_in_the_responsibil_household_are_mostly_ponsibility_for_this',\n",
       " 'r_entirely_responsibl_ly_in_the_responsibil_household_are_mostly_ponsibility_for_this',\n",
       " 'number_of_kids_inhouse',\n",
       " 'highest_education',\n",
       " 'employment_status',\n",
       " 'salary',\n",
       " 'occupation',\n",
       " 'qs2a_.frequency-_print_newspapers',\n",
       " 'qs2b_.frequency-_print_magazines',\n",
       " 'qs2c_.frequency-_am/fm_radio',\n",
       " 'qs2d_.frequency-_network_or_cable_tv',\n",
       " 'qs2e_.frequency-_streaming_tv_services',\n",
       " 'qs2f_.frequency-_music_streaming_services',\n",
       " 'qs2g_.frequency-_social_media',\n",
       " 'qs2h_.frequency-_online_news',\n",
       " 'qs3_.recent_experience_with_podcasts',\n",
       " 'qs4_.freq_listen_to_audio_podcasts',\n",
       " 'qp1a_.hours_time_lsitening_typical_week',\n",
       " 'qp1b_.minutes_time_lsitening_typical_week',\n",
       " 'qp1c_.combined_time_lsitening_typical_week',\n",
       " 'qp2_.podcast_episodes_listen_per_week',\n",
       " 'qp3_.first_stared_lsitenting_to_podcasts',\n",
       " 'qp4tya_.past_month0_-_type',\n",
       " 'y_tech_mp3_midnight_cience',\n",
       " 'qp4lna_.past_month0_-_language',\n",
       " 'qp4cta_.past_month0_-_country',\n",
       " 'qp4exa_.past_month0_-_explicit',\n",
       " 'qp4ava_.past_month0_-_available_episodes',\n",
       " 'qp4gnaa_.past_month0_genre',\n",
       " 'qp4sta_.past_month0_-_start',\n",
       " 'qp4mra_.past_month0_-_most_recent',\n",
       " 'y_and_wnyc_studios__oductions_/_tim_dress_e',\n",
       " 'qp5ctya_.past_month0_type',\n",
       " 'y_tech_mp3_midnight_cience',\n",
       " 'qp5clna_.past_month0_type',\n",
       " 'qp5ccta_.past_month0_type',\n",
       " 'qp5cexa_.past_month0_type',\n",
       " 'qp5cava_.past_month0_type',\n",
       " 'qp5cgnaa_.past_month0_type',\n",
       " 'qp5csta',\n",
       " 'qp5cmra_.past_month0_type',\n",
       " 'y_and_wnyc_studios__oductions_/_tim_dress_e',\n",
       " 'qp5dtya_.past_month0_type',\n",
       " 'y_tech_mp3_midnight_cience',\n",
       " 'qp5dlna_.past_month0_type',\n",
       " 'qp5dcta_.past_month0_type',\n",
       " 'qp5dexa_.past_month0_type',\n",
       " 'qp5dava_.past_month0_type',\n",
       " 'qp5dgnaa_.past_month0_type',\n",
       " 'qp5dsta',\n",
       " 'qp5dmra_.past_month0_type',\n",
       " 'y_and_wnyc_studios__oductions_/_tim_dress_e',\n",
       " 'qp10aa_.proportion-_canada',\n",
       " 'qp10ab_.proportion-_the_u.s.',\n",
       " 'qp10ac_.proportion-_britain',\n",
       " 'qp10ad_.proportion-_france',\n",
       " 'qp10ae_.proportion-_elsewhere',\n",
       " 'qe1ba_.%by_myself',\n",
       " 'qe1bb_.%with_others',\n",
       " 'qe2a_.%at_home',\n",
       " 'qe2b_.%at_work/school',\n",
       " 'qe2c_.%in_transit',\n",
       " 'qe2d_.%another_location',\n",
       " 'qe4_.mobile_phone_use_most_often',\n",
       " 'qe5b_.likely_to_buy_smart_speakers',\n",
       " 'qe5e_.#smart_speakers_in_home',\n",
       " 'qe6a_.%mobile_phone',\n",
       " 'qe6b_.%ipod_or_other_portable_digital_audio/mp3_player',\n",
       " 'qe6c_.%desktop_or_laptop_computer',\n",
       " 'qe6d_.%tablet',\n",
       " \"qe6e_.%'smart'_speaker\",\n",
       " 'qe6f_.%other',\n",
       " 'qe7a_.%over_ear_buds/headphones',\n",
       " 'qe7b_.%over_bluetooth_or_other_speakers',\n",
       " 'qe7c_.%total',\n",
       " 'y_device/_computer_be_en_i_find_a_podcast_i_download_if_i_can_av',\n",
       " 'qe9a_.%through_podcast_section_of_itunes',\n",
       " 'qe9b_.%through_apps_or_websites_that_pull_in_podcasts_from_multiple_sources',\n",
       " 'qe9c_.%through_apps_or_websites_that_feature_podcasts_from_a_single_source',\n",
       " 'qe9ba_.proportion-_more_than_3_months_ago',\n",
       " 'qe9bb_.proportion-_between_1_and_3_months_ago',\n",
       " 'qe9bc_.proportion-_less_than_a_month_ago',\n",
       " 'qe10_.how_often_listen_to_end',\n",
       " 'qe11_.freq_listen_to_closing_messages',\n",
       " 'qa1a_.tom1_brands_podcast_advertising',\n",
       " 'qa2aa_.attention_paid_tp_podcast_ads',\n",
       " 'qa2ba_.reason1_for_podcast_ad_impact',\n",
       " 'qa2ca_.why1_pay_less_attention',\n",
       " 'qa4aa_.avoid-_am/fm_radio',\n",
       " 'qa4ab_.avoid-_tv',\n",
       " 'qa4ac_.avoid-_online_video',\n",
       " 'qa4ad_.avoid-_print_newspaper_or_magazines',\n",
       " 'qa4ae_.avoid-_online_banner_ads',\n",
       " 'qa4af_.avoid-_online_pop-up_ads',\n",
       " 'qa4ag_.avoid-_podcasts',\n",
       " 'qa4ah_.avoid-_direct_mail',\n",
       " 'qa4ai_.avoid-_email_advertising',\n",
       " 'qa5a_.fre_skip-_ads_read_by_the_host_talking_about_the_advertiser',\n",
       " 'qa5b_.fre_skip-_ads_read_or_presented_by_someone_other_than_the_host',\n",
       " 'qza3a_.tried_to_get_more_info_on_podcast_ad',\n",
       " 'qm1a_.freq_read_or_look-_the_globe_and_mail',\n",
       " 'qm1b_.freq_read_or_look-_national_post',\n",
       " 'qm1c_.freq_read_or_look-_toronto_star',\n",
       " 'qm1d_.freq_read_or_look-_daily_newspaper_other',\n",
       " 'qm2a_.freq_listen-_cbc_radio_one',\n",
       " 'qm2b_.freq_listen-_news_or_talk_radio_stations_other_than_the_cbc',\n",
       " 'qm2c_.freq_listen-_ici_radio-canada_-_premiãˆre_chaine',\n",
       " 'qm2d_.freq_listen-_news_or_talk_radio_stations_other_than_radio-canada',\n",
       " 'qm3a_.access-_globe_and_mail_apps/website',\n",
       " 'qm3b_.access-_national_post_apps/website',\n",
       " 'qm3c_.access-_toronto_star_apps/website',\n",
       " 'qm3d_.access-_new_york_times_apps/website',\n",
       " 'qm3e_.access-_cbc_apps/website',\n",
       " 'qm3f_.access-_vice',\n",
       " 'qm3g_.access-_buzzfeed',\n",
       " 'qm3h_.access-_huffington_post',\n",
       " 'qm3i_.access-_sportsnet_apps/website',\n",
       " 'qm3j_.access-_tsn_apps/website',\n",
       " 'qm3k_.access-_ctv_news_apps/website',\n",
       " 'qm3l_.access-_global_news_apps/website',\n",
       " 'qm3m_.access-_apps/websites_of_radio_stations_other_than_cbc',\n",
       " 'qm3n_.access-_apps/websites_of_radio_stations_other_than_radio-canada',\n",
       " 'qm3o_.access-_radio-canada_apps/website',\n",
       " 'qm3p_.access-_rds_apps/website',\n",
       " 'qzm4a_.freq-_ctv_news_either_their_local_news_the_ctv_national_and/or_ctv_news',\n",
       " 'qzm4b_.freq-_cbc_tv_news_either_their_local_news_the_national_and/or_the',\n",
       " 'qzm4c_.freq-_global_news',\n",
       " 'qzm4d_.freq-_tv_news_on_tva',\n",
       " 'qzm4e_.freq-_tv_news_from_radio-canada_on_either_ici_radio-canada_or_the',\n",
       " 'primary',\n",
       " 'v455_a',\n",
       " 'qa1_advertising_podcast_1_code',\n",
       " 'completed_interview',\n",
       " 'qp1c_.combined_time_lsitening_typical_week',\n",
       " 'count_of_podcasts_over_p4',\n",
       " 'final_weight_variable',\n",
       " 'arfgen_&_age_wgt_cats',\n",
       " 'education_wgt_cats',\n",
       " 'region_wgt_cats']"
      ]
     },
     "execution_count": 25,
     "metadata": {},
     "output_type": "execute_result"
    }
   ],
   "source": [
    "data.columns.tolist()"
   ]
  },
  {
   "cell_type": "code",
   "execution_count": null,
   "metadata": {},
   "outputs": [],
   "source": [
    "#Since some of our columns are duplicates, we are adding an index within the name so we can create uniqueness to each column\n",
    "def rename_dups(df):   \n",
    "    cols=pd.Series(df.columns)\n",
    "    for dup in df.columns.get_duplicates(): \n",
    "        cols[df.columns.get_loc(dup)] = ([dup + '.' + str(d_idx) \n",
    "                                         if d_idx != 0 \n",
    "                                         else dup \n",
    "                                         for d_idx in range(df.columns.get_loc(dup).sum())]\n",
    "                                        )\n",
    "    df.columns=cols\n",
    "    return df"
   ]
  },
  {
   "cell_type": "code",
   "execution_count": 24,
   "metadata": {},
   "outputs": [
    {
     "data": {
      "text/plain": [
       "(1534, 146)"
      ]
     },
     "execution_count": 24,
     "metadata": {},
     "output_type": "execute_result"
    }
   ],
   "source": [
    "data.shape"
   ]
  },
  {
   "cell_type": "code",
   "execution_count": 20,
   "metadata": {},
   "outputs": [],
   "source": [
    "#sns.countplot(x='gender', data=data);"
   ]
  },
  {
   "cell_type": "code",
   "execution_count": 22,
   "metadata": {},
   "outputs": [],
   "source": [
    "#data['QA1_Advertising_Podcast_1_Code'].tolist()"
   ]
  },
  {
   "cell_type": "code",
   "execution_count": 272,
   "metadata": {},
   "outputs": [
    {
     "name": "stdout",
     "output_type": "stream",
     "text": [
      "0.0\n"
     ]
    }
   ],
   "source": [
    "#check nan %\n",
    "print (data['gender'].isnull().mean() * 100)"
   ]
  },
  {
   "cell_type": "code",
   "execution_count": null,
   "metadata": {},
   "outputs": [],
   "source": []
  }
 ],
 "metadata": {
  "kernelspec": {
   "display_name": "Python 3",
   "language": "python",
   "name": "python3"
  },
  "language_info": {
   "codemirror_mode": {
    "name": "ipython",
    "version": 3
   },
   "file_extension": ".py",
   "mimetype": "text/x-python",
   "name": "python",
   "nbconvert_exporter": "python",
   "pygments_lexer": "ipython3",
   "version": "3.7.1"
  }
 },
 "nbformat": 4,
 "nbformat_minor": 2
}
