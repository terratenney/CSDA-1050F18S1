{
 "cells": [
  {
   "cell_type": "markdown",
   "metadata": {},
   "source": [
    "### Sprint 3\n",
    "In this sprint we are going to share our final report on the entire project.\n",
    "\n",
    "#### Content of the final Report\n",
    "\n",
    "1\tIntroduction\t\t\t\t\t\t\n",
    "2\tBackground\t\t\t\t\t\t\n",
    "3\tResearch Question\t\t\t\t\t\n",
    "4\tMethodology\t\t\t\t\t\t\n",
    "    4.1\tData Sources\t\t\t\t\t\t\n",
    "    4.2\tCleaning\t\t\t\t\t\t\n",
    "    4.3\tData type segregation\t\t\t\t\t\n",
    "    4.4\tModelling\t\t\t\t\t\t\n",
    "        4.4.1\tPrincipal Component Analysis\t\t\n",
    "        4.4.2\tData Scaling\t\t\t\t\t\n",
    "        4.4.3\tData reduction\t\t\t\n",
    "        4.4.4\tClustering\t\t\t\t\t\n",
    "        4.4.5\tNumber of centroids\t\t\n",
    "        4.4.6\tKmeans Cluster\t\t\t\n",
    "        4.4.7\tInterpreting Kmeans\t\t\t\n",
    "5\tResults\t\t\t\t\t\t\n",
    "6\tDiscussion\t\t\t\t\t\t\n",
    "7\tConclusion\t\t\t\t\t\t\t\n",
    "\n",
    "#### Conclusion\n",
    "\n",
    "I am glad that we were able to identify various characteristics in our data through unsupervised algorithm models. We were able to drive insights about podcast listeners that will help advertising agencies connect their products with the right audience.\n",
    "Although we were able to drive insights from our data set, there is an opportunity to improve the results by obtaining more data about podcast listeners so we identify more unique characteristics about them.\n",
    "Also, there is an opportunity to deploy this model into an app that help advertisers to interact with the data in a more user friendly way.\n",
    "\n",
    "\n"
   ]
  }
 ],
 "metadata": {
  "kernelspec": {
   "display_name": "Python 3",
   "language": "python",
   "name": "python3"
  },
  "language_info": {
   "codemirror_mode": {
    "name": "ipython",
    "version": 3
   },
   "file_extension": ".py",
   "mimetype": "text/x-python",
   "name": "python",
   "nbconvert_exporter": "python",
   "pygments_lexer": "ipython3",
   "version": "3.7.1"
  }
 },
 "nbformat": 4,
 "nbformat_minor": 2
}
