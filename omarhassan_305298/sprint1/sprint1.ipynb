{
 "cells": [
  {
   "cell_type": "code",
   "execution_count": 3,
   "metadata": {},
   "outputs": [],
   "source": [
    "import pandas as pd\n",
    "import numpy as np\n",
    "import matplotlib.pyplot as plt\n",
    "import seaborn as sns\n",
    "%matplotlib inline\n",
    "\n",
    "# read data to panads \n",
    "data = pd.read_csv('./podcast18.csv') \n",
    "\n",
    "# read and convert data schema mapping into pandas\n",
    "data_schema = pd.read_csv('./data_schema.csv')\n",
    "\n",
    "#dict of mapping drived from data schema file\n",
    "mapping = {}\n",
    "# getting unique mapping of varible and lable\n",
    "data_schema_unique = data_schema.groupby(['Variable', 'cleaned_label']).size().reset_index(name='Freq')\n",
    "# use mapping dict to create a key value pair with varible as key and lable as value\n",
    "for index, row in data_schema_unique.iterrows():\n",
    "    if row['cleaned_label']:\n",
    "        mapping[row['Variable']] = row['cleaned_label']\n",
    "\n",
    "# use the mapping dict to rename the varibles of data file with our newly created shchema\n",
    "data.rename(columns=mapping,inplace=True)"
   ]
  },
  {
   "cell_type": "code",
   "execution_count": 4,
   "metadata": {},
   "outputs": [],
   "source": [
    "# replace all whitespace with NaN values\n",
    "data.replace(' ', np.nan, inplace=True)"
   ]
  },
  {
   "cell_type": "code",
   "execution_count": 5,
   "metadata": {},
   "outputs": [],
   "source": [
    "# drop all empty columns\n",
    "data.dropna(axis = 1, how= 'all', inplace = True)"
   ]
  },
  {
   "cell_type": "code",
   "execution_count": 6,
   "metadata": {},
   "outputs": [],
   "source": [
    "#drop columns with 20% NaN or more\n",
    "data = data.loc[:, data.isnull().mean() <= .50]"
   ]
  },
  {
   "cell_type": "code",
   "execution_count": 7,
   "metadata": {},
   "outputs": [],
   "source": [
    "#drop unnecessary columns based on domain knowledge\n",
    "data = data.drop(['study','arfkid .KIDS IN HH','<none>','0','PanelistCulture','qquotas .QUOTA','arfrr .REGION ROLLUP','qp10ba .PROPORTION- FRENCH LANGUAGE','qp10bb .PROPORTION- ENGLISH LANGUAGE','qp10bc .PROPORTION- ANOTHER LANGUAGE','qp10bd .PROPORTION- TOTAL'],axis=1)"
   ]
  },
  {
   "cell_type": "code",
   "execution_count": 8,
   "metadata": {},
   "outputs": [],
   "source": [
    "#replace _ with space in column names\n",
    "data.columns = data.columns.str.strip().str.lower().str.replace(' ', '_').str.replace('(', '').str.replace(')', '')"
   ]
  },
  {
   "cell_type": "code",
   "execution_count": 9,
   "metadata": {},
   "outputs": [],
   "source": [
    "data = data.drop(['r_entirely_responsibl_ly_in_the_responsibil_household_are_mostly_ponsibility_for_this'], axis=1)"
   ]
  },
  {
   "cell_type": "code",
   "execution_count": 10,
   "metadata": {},
   "outputs": [],
   "source": [
    "#Drop all columns that contain same data (Standard deviation is 0)\n",
    "data = data.drop(data.std()[(data.std() == 0)].index, axis=1)"
   ]
  },
  {
   "cell_type": "code",
   "execution_count": 11,
   "metadata": {},
   "outputs": [],
   "source": [
    " mapping = { data.columns[2]:'gender', data.columns[0]:'respondent_id', data.columns[1]:'region', data.columns[3]:'Age',data.columns[4]:'household_size',data.columns[5]:'highest_education',data.columns[6]:'employment_status',data.columns[7]:'salary',data.columns[8]:'occupation'}\n",
    " data = data.rename(columns=mapping)"
   ]
  },
  {
   "cell_type": "code",
   "execution_count": 12,
   "metadata": {},
   "outputs": [],
   "source": [
    "# cleaning age column\n",
    "data.Age = data.Age.apply(lambda x: '65' if '65+' in x else x)\n",
    "data.Age = data.Age.apply(lambda x: '18' if 'Under 18' in x else x)\n",
    "data.Age = data.Age.apply(lambda x: '50' if '45 to 54' in x else x)\n",
    "data.Age = data.Age.apply(lambda x: '21' if '18 to 24' in x else x)\n",
    "data.Age = data.Age.apply(lambda x: '40' if '35 to 44' in x else x)\n",
    "data.Age = data.Age.apply(lambda x: '60' if '55 to 64' in x else x)\n",
    "data.Age = data.Age.apply(lambda x: '30' if '25 to 34' in x else x)\n"
   ]
  },
  {
   "cell_type": "code",
   "execution_count": 13,
   "metadata": {},
   "outputs": [],
   "source": [
    "# clean count of podcast listened to per week\n",
    "data.count_of_podcasts_over_p4 = data.count_of_podcasts_over_p4.apply(lambda x: '0' if 'None' in x else x)\n",
    "nonzero_mean_count_of_podcasts_over_p4 = data['count_of_podcasts_over_p4'][ data.household_size != 0 ].mean()\n",
    "data.loc[data.count_of_podcasts_over_p4 == 0, \"count_of_podcasts_over_p4\" ] = nonzero_mean_count_of_podcasts_over_p4"
   ]
  },
  {
   "cell_type": "code",
   "execution_count": 14,
   "metadata": {},
   "outputs": [],
   "source": [
    "data.household_size = data.household_size.apply(lambda x: '0' if 'Dk/Na' in x else x)\n",
    "data['household_size'].astype(int)\n",
    "nonzero_mean_household_size = data['household_size'][ data.household_size != 0 ].mean()\n",
    "data.loc[data.household_size == 0, \"household_size\" ] = nonzero_mean_household_size"
   ]
  },
  {
   "cell_type": "code",
   "execution_count": 15,
   "metadata": {},
   "outputs": [],
   "source": [
    "# Clean salary column\n",
    "data['salary'] = data['salary'].str.extract('.*\\((.*)\\).*')\n",
    "data['salary'] = data['salary'].fillna(value=0).astype(int)\n",
    "nonzero_mean = data['salary'][ data.salary != 0 ].mean()\n",
    "data.loc[data.salary == 0, \"salary\" ] = nonzero_mean"
   ]
  },
  {
   "cell_type": "code",
   "execution_count": 16,
   "metadata": {},
   "outputs": [],
   "source": [
    "# change data type from o to int\n",
    "data['salary'] = data['salary'].astype(int)\n",
    "data['Age'] = data['Age'].astype(int)\n",
    "data['household_size'] = data['household_size'].astype(int)\n",
    "data['count_of_podcasts_over_p4'] = data['count_of_podcasts_over_p4'].astype(int)"
   ]
  },
  {
   "cell_type": "code",
   "execution_count": 17,
   "metadata": {},
   "outputs": [],
   "source": [
    "# replace Nan Values within the numeric df\n",
    "numeric_data = data.select_dtypes(include=['int64','int32']).fillna(data.mean()).astype(int)"
   ]
  },
  {
   "cell_type": "code",
   "execution_count": 18,
   "metadata": {},
   "outputs": [],
   "source": [
    "numeric_data = numeric_data.rename(columns={'count_of_podcasts_over_p4':'count_listen_podcasts_perweek','qp10aa_.proportion-_canada':'canadian_podcast_ratio_listen','qp10ab_.proportion-_the_u.s.':'us_podcast_ratio_listen','qp10ac_.proportion-_britain':'britain_podcast_ratio_listen','qp10ad_.proportion-_france':'french_podcast_ratio_listen','qp10ae_.proportion-_elsewhere':'elsewhere_podcast_ratio_listen'})"
   ]
  },
  {
   "cell_type": "code",
   "execution_count": 19,
   "metadata": {},
   "outputs": [],
   "source": [
    "data = data.rename(columns={'qp4gnaa_.past_month0_genre':'genre'})"
   ]
  },
  {
   "cell_type": "code",
   "execution_count": 20,
   "metadata": {},
   "outputs": [],
   "source": [
    "categorical_data = data.select_dtypes(include=['object'])"
   ]
  },
  {
   "cell_type": "markdown",
   "metadata": {},
   "source": [
    "### Create two new data frames\n",
    "\n",
    "1. Categorical data (categoical_data)\n",
    "2. KYC data (kyc_data)\n",
    "3. numeric data (numeric_data)"
   ]
  },
  {
   "cell_type": "code",
   "execution_count": 21,
   "metadata": {},
   "outputs": [],
   "source": [
    "# creating categorical data frame \n",
    "categorical_data = categorical_data[['region','gender','highest_education','employment_status','occupation','genre']]\n",
    "cat_resp_id = numeric_data['respondent_id']\n",
    "categorical_data = pd.concat([categorical_data, cat_resp_id], axis=1).reindex(categorical_data.index)"
   ]
  },
  {
   "cell_type": "code",
   "execution_count": 22,
   "metadata": {},
   "outputs": [],
   "source": [
    "#moves responded id column to front\n",
    "cols = categorical_data.columns.tolist()\n",
    "n = int(cols.index('respondent_id'))\n",
    "cols = [cols[n]] + cols[:n] + cols[n+1:]\n",
    "categorical_data = categorical_data[cols]"
   ]
  },
  {
   "cell_type": "code",
   "execution_count": 23,
   "metadata": {},
   "outputs": [],
   "source": [
    "#creates a random permuation of the categorical values\n",
    "permutation = np.random.permutation(categorical_data['genre'])\n",
    "\n",
    "#erase the empty values\n",
    "empty_is = np.where(permutation == \"\")\n",
    "permutation = np.delete(permutation, empty_is)\n",
    "\n",
    "#replace all empty values of the dataframe[field]\n",
    "end = len(permutation)\n",
    "categorical_data['genre'] = categorical_data['genre'].apply(lambda x: permutation[np.random.randint(end)] if pd.isnull(x) else x)"
   ]
  },
  {
   "cell_type": "code",
   "execution_count": 24,
   "metadata": {},
   "outputs": [],
   "source": [
    "#creates a random permuation of the categorical values\n",
    "permutation = np.random.permutation(categorical_data['genre'])\n",
    "\n",
    "#erase the empty values\n",
    "empty_is = np.where(permutation == \"\")\n",
    "permutation = np.delete(permutation, empty_is)\n",
    "\n",
    "#replace all empty values of the dataframe[field]\n",
    "end = len(permutation)\n",
    "categorical_data['genre'] = categorical_data['genre'].apply(lambda x: permutation[np.random.randint(end)] if pd.isnull(x) else x)"
   ]
  },
  {
   "cell_type": "code",
   "execution_count": 25,
   "metadata": {},
   "outputs": [],
   "source": [
    "#create a kyc dataframe\n",
    "num_kyc_data = numeric_data[['Age','salary','household_size']]\n",
    "kyc_data = pd.concat([categorical_data, num_kyc_data], axis=1).reindex(categorical_data.index)"
   ]
  },
  {
   "cell_type": "code",
   "execution_count": 26,
   "metadata": {},
   "outputs": [
    {
     "data": {
      "text/plain": [
       "respondent_id         int32\n",
       "region               object\n",
       "gender               object\n",
       "highest_education    object\n",
       "employment_status    object\n",
       "occupation           object\n",
       "genre                object\n",
       "Age                   int32\n",
       "salary                int32\n",
       "household_size        int32\n",
       "dtype: object"
      ]
     },
     "execution_count": 26,
     "metadata": {},
     "output_type": "execute_result"
    }
   ],
   "source": [
    "kyc_data.dtypes"
   ]
  },
  {
   "cell_type": "code",
   "execution_count": 27,
   "metadata": {},
   "outputs": [
    {
     "data": {
      "text/plain": [
       "respondent_id         int32\n",
       "region               object\n",
       "gender               object\n",
       "highest_education    object\n",
       "employment_status    object\n",
       "occupation           object\n",
       "genre                object\n",
       "dtype: object"
      ]
     },
     "execution_count": 27,
     "metadata": {},
     "output_type": "execute_result"
    }
   ],
   "source": [
    "categorical_data.dtypes"
   ]
  },
  {
   "cell_type": "code",
   "execution_count": 28,
   "metadata": {},
   "outputs": [
    {
     "data": {
      "text/plain": [
       "respondent_id                                                                  int32\n",
       "Age                                                                            int32\n",
       "household_size                                                                 int32\n",
       "salary                                                                         int32\n",
       "canadian_podcast_ratio_listen                                                  int32\n",
       "us_podcast_ratio_listen                                                        int32\n",
       "britain_podcast_ratio_listen                                                   int32\n",
       "french_podcast_ratio_listen                                                    int32\n",
       "elsewhere_podcast_ratio_listen                                                 int32\n",
       "qe1ba_.%by_myself                                                              int32\n",
       "qe1bb_.%with_others                                                            int32\n",
       "qe2a_.%at_home                                                                 int32\n",
       "qe2b_.%at_work/school                                                          int32\n",
       "qe2c_.%in_transit                                                              int32\n",
       "qe2d_.%another_location                                                        int32\n",
       "qe6a_.%mobile_phone                                                            int32\n",
       "qe6b_.%ipod_or_other_portable_digital_audio/mp3_player                         int32\n",
       "qe6c_.%desktop_or_laptop_computer                                              int32\n",
       "qe6d_.%tablet                                                                  int32\n",
       "qe6f_.%other                                                                   int32\n",
       "qe9a_.%through_podcast_section_of_itunes                                       int32\n",
       "qe9b_.%through_apps_or_websites_that_pull_in_podcasts_from_multiple_sources    int32\n",
       "qe9c_.%through_apps_or_websites_that_feature_podcasts_from_a_single_source     int32\n",
       "qe9ba_.proportion-_more_than_3_months_ago                                      int32\n",
       "qe9bb_.proportion-_between_1_and_3_months_ago                                  int32\n",
       "qe9bc_.proportion-_less_than_a_month_ago                                       int32\n",
       "qa1_advertising_podcast_1_code                                                 int32\n",
       "count_listen_podcasts_perweek                                                  int32\n",
       "dtype: object"
      ]
     },
     "execution_count": 28,
     "metadata": {},
     "output_type": "execute_result"
    }
   ],
   "source": [
    "numeric_data.dtypes"
   ]
  },
  {
   "cell_type": "code",
   "execution_count": 30,
   "metadata": {},
   "outputs": [],
   "source": [
    "#Export all our cleaned data\n",
    "kyc_data.to_csv('kyc_data.csv', index= False)\n",
    "categorical_data.to_csv('cat_data.csv', index= False)\n",
    "numeric_data.to_csv('num_data.csv', index= False)"
   ]
  }
 ],
 "metadata": {
  "kernelspec": {
   "display_name": "Python 3",
   "language": "python",
   "name": "python3"
  },
  "language_info": {
   "codemirror_mode": {
    "name": "ipython",
    "version": 3
   },
   "file_extension": ".py",
   "mimetype": "text/x-python",
   "name": "python",
   "nbconvert_exporter": "python",
   "pygments_lexer": "ipython3",
   "version": "3.7.1"
  }
 },
 "nbformat": 4,
 "nbformat_minor": 2
}
