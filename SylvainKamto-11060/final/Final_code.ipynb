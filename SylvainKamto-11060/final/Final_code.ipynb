{
 "cells": [
  {
   "cell_type": "code",
   "execution_count": 41,
   "metadata": {},
   "outputs": [],
   "source": [
    "#CSDA1050 Advanced Analytics Capstone Course\n",
    "\n",
    "# Project Sprint 3\n",
    "# Improving student’s graduation in Education\n",
    "# By Sylvain Kamto\n",
    "# Student ID: 11060"
   ]
  },
  {
   "cell_type": "code",
   "execution_count": 1,
   "metadata": {},
   "outputs": [],
   "source": [
    "import pandas as pd\n",
    "import collections\n",
    "import random\n",
    "import scipy as sp\n",
    "import numpy as np\n",
    "import collections\n",
    "from sklearn.decomposition import FactorAnalysis\n",
    "from sklearn.ensemble import RandomForestRegressor, GradientBoostingClassifier, RandomForestClassifier\n",
    "from sklearn.model_selection import train_test_split, cross_val_score\n",
    "from matplotlib import pyplot as plt\n",
    "import re\n",
    "from matplotlib import pyplot as plt\n",
    "plt.style.use('ggplot')\n",
    "import copy\n",
    "pd.options.mode.chained_assignment = None  # default='warn'"
   ]
  },
  {
   "cell_type": "code",
   "execution_count": 28,
   "metadata": {},
   "outputs": [],
   "source": [
    "#Import Data"
   ]
  },
  {
   "cell_type": "code",
   "execution_count": 2,
   "metadata": {},
   "outputs": [],
   "source": [
    "assessments = pd.read_csv('assessments.csv')\n",
    "courses = pd.read_csv('courses.csv')\n",
    "studentass = pd.read_csv('studentAssessment.csv')\n",
    "studentinfo = pd.read_csv('studentinfo.csv')\n",
    "studentreg = pd.read_csv('studentRegistration.csv')\n",
    "studentvle = pd.read_csv('studentVle.csv')\n",
    "vle = pd.read_csv('vle.csv')"
   ]
  },
  {
   "cell_type": "code",
   "execution_count": 29,
   "metadata": {},
   "outputs": [],
   "source": [
    "# Data comes in 7 different files. I merge data to do preliminary analyses"
   ]
  },
  {
   "cell_type": "code",
   "execution_count": 3,
   "metadata": {},
   "outputs": [],
   "source": [
    "dset = pd.merge(assessments, studentass, how = 'inner', on = 'id_assessment')\n",
    "dset =pd.merge(dset, studentinfo, how = 'inner', on = ['code_module', 'code_presentation', 'id_student'])\n",
    "dset = pd.merge(dset, courses, how ='inner', on =['code_module', 'code_presentation'])\n",
    "dset = pd.merge(dset, studentreg, how = 'inner', on = ['code_module', 'code_presentation', 'id_student'])\n",
    "ass_nofinal = assessments.loc[assessments.assessment_type != 'Exam']"
   ]
  },
  {
   "cell_type": "code",
   "execution_count": 30,
   "metadata": {},
   "outputs": [],
   "source": [
    "# Modules are equivalent to courses. I only examine FFF (lets call it math for simplicity) because courses vary in terms of length of course, weight of examns, number of exams, timing of exams, and more. "
   ]
  },
  {
   "cell_type": "code",
   "execution_count": 31,
   "metadata": {},
   "outputs": [],
   "source": [
    "#So I focus just on math for now"
   ]
  },
  {
   "cell_type": "code",
   "execution_count": 4,
   "metadata": {},
   "outputs": [],
   "source": [
    "vle_fff= vle.loc[vle.code_module == 'FFF']\n",
    "studentvle_fff = studentvle.loc[studentvle.code_module == 'FFF']\n",
    "vle_final_fff = pd.merge(vle_fff, studentvle_fff, how = 'inner', on = ['code_module', 'code_presentation', 'id_site'])"
   ]
  },
  {
   "cell_type": "code",
   "execution_count": 5,
   "metadata": {},
   "outputs": [],
   "source": [
    "dset_fff= dset.loc[dset.code_module == 'FFF']"
   ]
  },
  {
   "cell_type": "code",
   "execution_count": null,
   "metadata": {},
   "outputs": [],
   "source": [
    "# Math is taught several times throughout the year, and because dates of courses can vary due to breaks, holidays, etct, I interpolate all the dates so that they represent the same period of time in the course"
   ]
  },
  {
   "cell_type": "code",
   "execution_count": 6,
   "metadata": {},
   "outputs": [],
   "source": [
    "dset_fff.loc[:,'date1'] = list(map(lambda x,y,z: 19 if (x in [24,19] and y =='TMA') else 52 if (x in [47,52] and y =='TMA') else 87 if (x in [89, 87,94,96] and y =='TMA') else 129 if (x in [131,129, 136] and y =='TMA') else 166 if (x in [171,166, 173, 199] and y == 'TMA') else z, dset_fff.loc[:,'date'][:], dset_fff.loc[:,'assessment_type'][:], dset_fff.loc[:,'date_submitted'][:]))         \n",
    "dset_fff.loc[:,'date2'] = list(map(lambda x,y,z: x*(19/24) if (x <=24 and y != 'TMA' and z in ['2014J', '2014B'] ) else x*(47/52) if (x<=52 and y != 'TMA' and z in ['2014J', '2014B']) else (87/96)*x if (x<=96 and y !='TMA' and z =='2013J') else (87/94)*x if (x<=94 and y !='TMA' and z =='2014J') else (87/89)*x if (x<=89 and y !='TMA' and z =='2013B')\n",
    " else x *(129/131) if (x<=131 and y != 'TMA' and z in ['2013J', '2013B']) else x * (129/136) if (x<136 and y!= 'TMA' and z =='2014J') else x*(166/173) if (x<=173 and y != 'TMA' and z =='2013J') else x*(166/199) if (x<=131 and y != 'TMA' and z == '2014J') else x*(166/171) if\n",
    "  (x<=131 and y != 'TMA' and z =='2014B') else x*(240/241) if (x > 171 and z =='2014B') else x*(240/268) if (x > 173 and z =='2013J') else x*(240/269) if (x > 199 and z =='2014J') else x, dset_fff.loc[:,'date1'][:], dset_fff.loc[:,'assessment_type'][:], dset_fff.loc[:,'code_presentation'][:]))\n",
    "#dset_fff=dset_fff.loc[dset_fff.date2 <=240]"
   ]
  },
  {
   "cell_type": "code",
   "execution_count": null,
   "metadata": {},
   "outputs": [],
   "source": [
    "# Given the dates of when students use online materials and take assessmenets, I combine them into weeks. I.E. weekly online interaction, weekly average assessment score, etc.\n"
   ]
  },
  {
   "cell_type": "code",
   "execution_count": 7,
   "metadata": {},
   "outputs": [],
   "source": [
    "#group dates into weeks\n",
    "start =0\n",
    "x= 1\n",
    "dset_fff['cat'] = 'group 0'\n",
    "#group = None\n",
    "for i in range(7,236,7):\n",
    "    end = i+1\n",
    "    group = 'group ' + str(x)\n",
    "    dset_fff['cat'] = list(map(lambda z,q: group if start < z < end else q, dset_fff['date2'], dset_fff['cat']))\n",
    "    start = start + 7\n",
    "    x= x+1\n",
    "#summarise data by weeks\n",
    "colFun = {'id_assessment': ['count'],\n",
    "          'weight': ['mean'],\n",
    "          'score': ['mean']}\n",
    "grouped_dset= dset_fff.groupby(['id_student', 'code_presentation', 'cat','assessment_type'], as_index = False).agg(colFun)\n",
    "grouped_dset.columns = ['id_student','code_presentation', 'group','assessment_type','num_assessment','weight','score']\n",
    "#reshape data and convert na to zeros\n",
    "grouped_dset= grouped_dset.pivot_table(values = ['num_assessment','weight','score'], index = ['id_student', 'code_presentation'], columns = ['assessment_type', 'group'])\n",
    "grouped_dset= grouped_dset.reset_index()\n",
    "grouped_dset = grouped_dset.fillna(0)\n",
    "#change column names\n",
    "names = list(grouped_dset.columns)\n",
    "names = list(map(lambda x: ' '.join(x), names))\n",
    "names = list(map(lambda x: x.strip(), names))\n",
    "grouped_dset.columns = names\n",
    "grouped_dset= grouped_dset.loc[:, (grouped_dset != 0).any(axis=0)]\n",
    "#isolate demographic data from non VLE dataset\n",
    "data = dset_fff[[ 'code_presentation','id_student','gender','highest_education','imd_band','age_band','num_of_prev_attempts','studied_credits','disability','final_result']]\n",
    "data = data.drop_duplicates(['code_presentation', 'id_student'])\n",
    "#merge data\n",
    "data1 = pd.merge(data, grouped_dset, how = 'inner', on = ['id_student', 'code_presentation'])"
   ]
  },
  {
   "cell_type": "code",
   "execution_count": 32,
   "metadata": {},
   "outputs": [],
   "source": [
    "# Online activity is split it many different categories. I combine them into more meaningful ones. Namely 1) conent- when students interact with content like lectures 2) resources - when student use glossaries, practice quizes, and wiki resources 3) forum - when student use chatrooms for discussing materials 4) overall activity- accessing the homepage and other online interfaces"
   ]
  },
  {
   "cell_type": "code",
   "execution_count": 8,
   "metadata": {},
   "outputs": [],
   "source": [
    "vle_final_fff['activity'] = ['content' if x in ['oucontent'] else 'resource' if x in ['resource', 'dataplus', 'glossary', 'ouelluminate', 'ouwiki', 'quiz'] else 'forum' if x in ['forumng', 'oucollaborate'] else 'activity' if x in ['homepage', 'page', 'subpage'] else 'NA' for x in vle_final_fff['activity_type']]\n",
    "vle_final_fff = vle_final_fff.loc[vle_final_fff.activity != 'NA']\n",
    "#reshape long to wide\n",
    "efa_vle = vle_final_fff.pivot_table(values = 'sum_click', index = ['code_presentation', 'id_student', 'date'], columns ='activity', aggfunc='sum')\n",
    "efa_vle = efa_vle.fillna(0)\n",
    "efa_vle = efa_vle.reset_index()\n",
    "#interpolate dates\n",
    "efa_vle['date2'] = list(map(lambda x,z: x*(19/24) if (x <=24  and z in ['2014J', '2014B'] ) else x*(47/52) if (x<=52  and z in ['2014J', '2014B']) else (87/96)*x if (x<=96 and  z =='2013J') else (87/94)*x if (x<=94 and  z =='2014J') else (87/89)*x if (x<=89 and  z =='2013B')\n",
    " else x *(129/131) if (x<=131  and z in ['2013J', '2013B']) else x * (129/136) if (x<136 and  z =='2014J') else x*(166/173) if (x<=173  and z =='2013J') else x*(166/199) if (x<=131  and z == '2014J') else x*(166/171) if\n",
    "  (x<=131  and z =='2014B') else x*(240/241) if (x > 171 and z =='2014B') else x*(240/268) if (x > 173 and z =='2013J') else x*(240/269) if (x > 199 and z =='2014J') else x, efa_vle['date'], efa_vle['code_presentation']))\n",
    "efa_vle=efa_vle.loc[efa_vle.date2 <=240]\n",
    "#group by week\n",
    "start =0\n",
    "x= 1\n",
    "efa_vle['cat'] = 'group 0'\n",
    "#group = None\n",
    "for i in range(7,247,7):\n",
    "    end = i+1\n",
    "    group = 'group ' + str(x)\n",
    "    efa_vle['cat'] = list(map(lambda z,q: group if start < z < end else q, efa_vle['date2'], efa_vle['cat']))\n",
    "    start = start + 7\n",
    "    x= x+1\n",
    "grouped_vle= efa_vle.groupby(['id_student', 'code_presentation', 'cat'], as_index = False).sum()\n",
    "#reshape long to wide\n",
    "grouped_vle= grouped_vle.pivot_table(values = ['activity','content','forum', 'resource'], index = ['id_student', 'code_presentation'], columns = 'cat')\n",
    "### convert NA to zero and rename columns\n",
    "grouped_vle= grouped_vle.reset_index()\n",
    "grouped_vle = grouped_vle.fillna(0)\n",
    "names = list(grouped_vle.columns)\n",
    "names = list(map(lambda x: ' '.join(x), names))\n",
    "names = list(map(lambda x: x.strip(), names))\n",
    "names\n",
    "grouped_vle.columns = names"
   ]
  },
  {
   "cell_type": "code",
   "execution_count": 33,
   "metadata": {},
   "outputs": [],
   "source": [
    "# Create final dataset"
   ]
  },
  {
   "cell_type": "code",
   "execution_count": 9,
   "metadata": {},
   "outputs": [],
   "source": [
    "final_dset = pd.merge(grouped_vle, data1, how = 'inner', on = ['id_student', 'code_presentation'])\n",
    "final_dset['imd_band'] = [0 if final_dset == '0-10%' else 1 if final_dset=='10-20'else 2 if final_dset== '20-30%'else 3 if  final_dset =='30-40%' else 4 if final_dset== '40-50%'else 5 if  final_dset=='50-60%'else 6 if final_dset== '60-70%'else 7 if final_dset== '70-80%' else 8 if final_dset== '80-90%'else 9 if final_dset == '90-100%' else 3 for final_dset in final_dset['imd_band'].copy()]\n",
    "final_dset.to_csv('sem.csv')"
   ]
  },
  {
   "cell_type": "code",
   "execution_count": 34,
   "metadata": {},
   "outputs": [],
   "source": [
    "#Analysis\n",
    "\n",
    "#Target Variable: Pass or Fail"
   ]
  },
  {
   "cell_type": "code",
   "execution_count": 10,
   "metadata": {},
   "outputs": [],
   "source": [
    "final_dset['pass'] = ['pass' if x in ['Distinction', 'Pass'] else 'fail' for x in final_dset['final_result']]\n",
    "Y_pass= final_dset['pass']"
   ]
  },
  {
   "cell_type": "code",
   "execution_count": 35,
   "metadata": {},
   "outputs": [],
   "source": [
    "#Bar Chart of distribution of students who failed and passed"
   ]
  },
  {
   "cell_type": "code",
   "execution_count": 11,
   "metadata": {},
   "outputs": [
    {
     "data": {
      "image/png": "[encoded data removed]",
      "text/plain": [
       "<matplotlib.figure.Figure at 0x251c80cf5c0>"
      ]
     },
     "metadata": {},
     "output_type": "display_data"
    }
   ],
   "source": [
    "x_axis = ['pass', 'fail']\n",
    "y_pos = [sum(Y_pass== 'pass'), sum(Y_pass =='fail')]\n",
    "plt.bar(x_axis, y_pos)\n",
    "plt.show()"
   ]
  },
  {
   "cell_type": "code",
   "execution_count": null,
   "metadata": {},
   "outputs": [],
   "source": [
    "# Predictor Variables"
   ]
  },
  {
   "cell_type": "code",
   "execution_count": 12,
   "metadata": {},
   "outputs": [],
   "source": [
    "predictors = [x for x in final_dset.columns if x not in ['pass', 'final_result', 'id_student','num_of_prev_attempts','code_presentation', 'code','region']]\n",
    "x = final_dset[predictors]\n",
    "#create dummy variables\n",
    "x = pd.get_dummies(x, drop_first = False)"
   ]
  },
  {
   "cell_type": "code",
   "execution_count": null,
   "metadata": {},
   "outputs": [],
   "source": [
    "# Random Forest full model"
   ]
  },
  {
   "cell_type": "code",
   "execution_count": 13,
   "metadata": {},
   "outputs": [],
   "source": [
    "rf_full=RandomForestClassifier(n_estimators=500)"
   ]
  },
  {
   "cell_type": "code",
   "execution_count": 14,
   "metadata": {},
   "outputs": [],
   "source": [
    "X_train_full, X_test_full, y_p_train_full, y_p_test_full = train_test_split(x, Y_pass, test_size=0.2)"
   ]
  },
  {
   "cell_type": "code",
   "execution_count": 15,
   "metadata": {},
   "outputs": [
    {
     "name": "stdout",
     "output_type": "stream",
     "text": [
      "Score: 0.9213036565977742\n"
     ]
    }
   ],
   "source": [
    "model_p_full = rf_full.fit(X_train_full, y_p_train_full)\n",
    "print ('Score:', model_p_full.score(X_test_full, y_p_test_full))"
   ]
  },
  {
   "cell_type": "code",
   "execution_count": 36,
   "metadata": {},
   "outputs": [],
   "source": [
    "# The full model with all of the students assessment scores, weekly virtual interaction scores, etc. Is fairly robust at predicting student failure. But this prediction is made with all data available. Or over 30 weeks of data. \n",
    "# Can student success of failure be predicted earlier?\n",
    "\n",
    "\n",
    "# Model with only demographic data\n",
    "\n",
    "# this is data of only student demographic data. So the model does not use any course information"
   ]
  },
  {
   "cell_type": "code",
   "execution_count": 16,
   "metadata": {},
   "outputs": [
    {
     "name": "stdout",
     "output_type": "stream",
     "text": [
      "Score: 0.5906200317965024\n"
     ]
    }
   ],
   "source": [
    "lst = x.columns.tolist()\n",
    "predictors0 = [x for x in lst if re.search('[0-9]', x)==None]\n",
    "x0 = x[predictors0]\n",
    "rf0=RandomForestClassifier(n_estimators = 500)\n",
    "X_train, X_test, y_train, y_test = train_test_split(x0, Y_pass, test_size=0.2)\n",
    "model_null = rf0.fit(X_train,y_train)\n",
    "print ('Score:', model_null.score(X_test, y_test))"
   ]
  },
  {
   "cell_type": "code",
   "execution_count": null,
   "metadata": {},
   "outputs": [],
   "source": [
    "# now with only demographic data, the model can predict success of failure with about 60% accuracy\n",
    "\n",
    "# Model with demographics and first week of data"
   ]
  },
  {
   "cell_type": "code",
   "execution_count": 37,
   "metadata": {},
   "outputs": [
    {
     "name": "stdout",
     "output_type": "stream",
     "text": [
      "Score: 0.6073131955484896\n"
     ]
    }
   ],
   "source": [
    "predictors1 = [x for x in lst if re.search('group 19$', x)]\n",
    "predictors1 = predictors0 + predictors1\n",
    "x1 = x[predictors0]\n",
    "rf1=RandomForestClassifier(n_estimators = 500)\n",
    "X_train, X_test, y_train, y_test = train_test_split(x1, Y_pass, test_size=0.2)\n",
    "model_1 = rf1.fit(X_train,y_train)\n",
    "print ('Score:', model_1.score(X_test, y_test))"
   ]
  },
  {
   "cell_type": "code",
   "execution_count": null,
   "metadata": {},
   "outputs": [],
   "source": [
    "# slight improvement in model prediction accuracy\n",
    "\n",
    "# Weekly Model improvement"
   ]
  },
  {
   "cell_type": "code",
   "execution_count": 18,
   "metadata": {},
   "outputs": [
    {
     "name": "stdout",
     "output_type": "stream",
     "text": [
      "week0 Score: 0.6120826709062003\n",
      "week1 Score: 0.6534181240063593\n",
      "week2 Score: 0.6772655007949125\n",
      "week3 Score: 0.6987281399046105\n",
      "week4 Score: 0.7154213036565977\n",
      "week5 Score: 0.7273449920508744\n",
      "week6 Score: 0.7289348171701113\n",
      "week7 Score: 0.7511923688394276\n",
      "week8 Score: 0.7631160572337043\n",
      "week9 Score: 0.7670906200317965\n",
      "week10 Score: 0.78060413354531\n",
      "week11 Score: 0.7925278219395866\n",
      "week12 Score: 0.7869634340222575\n",
      "week13 Score: 0.8751987281399046\n",
      "week14 Score: 0.8791732909379968\n",
      "week15 Score: 0.8545310015898251\n",
      "week16 Score: 0.8521462639109698\n",
      "week17 Score: 0.8394276629570747\n",
      "week18 Score: 0.8712241653418124\n",
      "week19 Score: 0.8910969793322735\n",
      "week20 Score: 0.8910969793322735\n",
      "week21 Score: 0.8926868044515104\n",
      "week22 Score: 0.8966613672496025\n",
      "week23 Score: 0.9014308426073132\n",
      "week24 Score: 0.9022257551669316\n",
      "week25 Score: 0.910174880763116\n",
      "week26 Score: 0.9157392686804452\n",
      "week27 Score: 0.9260731319554849\n",
      "week28 Score: 0.9213036565977742\n",
      "week29 Score: 0.9236883942766295\n",
      "week30 Score: 0.9332273449920508\n",
      "week31 Score: 0.9276629570747218\n",
      "week32 Score: 0.9228934817170111\n",
      "week33 Score: 0.9292527821939587\n",
      "week34 Score: 0.93879173290938\n",
      "week35 Score: 0.931637519872814\n"
     ]
    }
   ],
   "source": [
    "df = {'model': 0, 'classification': [model_1.score(X_test, y_test)]}\n",
    "df = pd.DataFrame(df)\n",
    "predictor_x= [x for x in lst if re.search('[0-9]', x)==None]\n",
    "test = []\n",
    "for i in range(0,36):\n",
    "    predictor = [x for x in lst if re.search('group ' + str(i) +'$', x)]\n",
    "    predictor_x = predictor_x + predictor\n",
    "    test = x[predictor_x]\n",
    "    #print(test.columns)\n",
    "    rf=RandomForestClassifier(n_estimators = 500)\n",
    "    #rf = GradientBoostingClassifier()\n",
    "    X_train, X_test, y_train, y_test = train_test_split(test, Y_pass, test_size=0.2)\n",
    "    model_1 = rf.fit(X_train, y_train)\n",
    "    df= df.append({'model': i+1, 'classification': model_1.score(X_test, y_test)},ignore_index=True )\n",
    "    #print(df)\n",
    "    print ('week' + str(i) + ' Score:', model_1.score(X_test, y_test))"
   ]
  },
  {
   "cell_type": "code",
   "execution_count": null,
   "metadata": {},
   "outputs": [],
   "source": [
    "# Steady increase in model prediction accuracy with every additional week of data. However, we see jumps at certain weeks. \n",
    "# This coincides with weeks where student had tests"
   ]
  },
  {
   "cell_type": "code",
   "execution_count": 19,
   "metadata": {},
   "outputs": [
    {
     "data": {
      "image/png": "[encoded data removed]",
      "text/plain": [
       "<matplotlib.figure.Figure at 0x25180526780>"
      ]
     },
     "metadata": {},
     "output_type": "display_data"
    }
   ],
   "source": [
    "\n",
    "plt.plot(df['model'], df['classification'])\n",
    "plt.show()\n",
    "df.to_csv('rf.csv')"
   ]
  },
  {
   "cell_type": "code",
   "execution_count": 38,
   "metadata": {},
   "outputs": [],
   "source": [
    "# by week 8, the model could predict with 75% accuracy student failure. Over 85% accuracy by week 13. And after week 24, there seems to be marginal gains, suggesting that additional student information does not add to model predictive power\n",
    "\n",
    "# Feature importance\n",
    "\n",
    "#  The model can predict with confidence student success and failure, but what features does the model identify as important for its prediction?"
   ]
  },
  {
   "cell_type": "code",
   "execution_count": 20,
   "metadata": {},
   "outputs": [
    {
     "data": {
      "text/html": [
       "<div>\n",
       "<style scoped>\n",
       "    .dataframe tbody tr th:only-of-type {\n",
       "        vertical-align: middle;\n",
       "    }\n",
       "\n",
       "    .dataframe tbody tr th {\n",
       "        vertical-align: top;\n",
       "    }\n",
       "\n",
       "    .dataframe thead th {\n",
       "        text-align: right;\n",
       "    }\n",
       "</style>\n",
       "<table border=\"1\" class=\"dataframe\">\n",
       "  <thead>\n",
       "    <tr style=\"text-align: right;\">\n",
       "      <th></th>\n",
       "      <th>0</th>\n",
       "      <th>1</th>\n",
       "    </tr>\n",
       "  </thead>\n",
       "  <tbody>\n",
       "    <tr>\n",
       "      <th>0</th>\n",
       "      <td>score TMA group 24</td>\n",
       "      <td>0.077119</td>\n",
       "    </tr>\n",
       "    <tr>\n",
       "      <th>1</th>\n",
       "      <td>score TMA group 19</td>\n",
       "      <td>0.058937</td>\n",
       "    </tr>\n",
       "    <tr>\n",
       "      <th>2</th>\n",
       "      <td>weight TMA group 24</td>\n",
       "      <td>0.052077</td>\n",
       "    </tr>\n",
       "    <tr>\n",
       "      <th>3</th>\n",
       "      <td>num_assessment TMA group 24</td>\n",
       "      <td>0.051056</td>\n",
       "    </tr>\n",
       "    <tr>\n",
       "      <th>4</th>\n",
       "      <td>activity group 31</td>\n",
       "      <td>0.047472</td>\n",
       "    </tr>\n",
       "    <tr>\n",
       "      <th>5</th>\n",
       "      <td>activity group 30</td>\n",
       "      <td>0.041408</td>\n",
       "    </tr>\n",
       "    <tr>\n",
       "      <th>6</th>\n",
       "      <td>num_assessment TMA group 19</td>\n",
       "      <td>0.040455</td>\n",
       "    </tr>\n",
       "    <tr>\n",
       "      <th>7</th>\n",
       "      <td>score TMA group 13</td>\n",
       "      <td>0.032159</td>\n",
       "    </tr>\n",
       "    <tr>\n",
       "      <th>8</th>\n",
       "      <td>activity group 29</td>\n",
       "      <td>0.031951</td>\n",
       "    </tr>\n",
       "    <tr>\n",
       "      <th>9</th>\n",
       "      <td>weight TMA group 19</td>\n",
       "      <td>0.025571</td>\n",
       "    </tr>\n",
       "    <tr>\n",
       "      <th>10</th>\n",
       "      <td>content group 30</td>\n",
       "      <td>0.025052</td>\n",
       "    </tr>\n",
       "    <tr>\n",
       "      <th>11</th>\n",
       "      <td>activity group 24</td>\n",
       "      <td>0.023885</td>\n",
       "    </tr>\n",
       "    <tr>\n",
       "      <th>12</th>\n",
       "      <td>activity group 28</td>\n",
       "      <td>0.023023</td>\n",
       "    </tr>\n",
       "    <tr>\n",
       "      <th>13</th>\n",
       "      <td>activity group 27</td>\n",
       "      <td>0.019259</td>\n",
       "    </tr>\n",
       "    <tr>\n",
       "      <th>14</th>\n",
       "      <td>content group 24</td>\n",
       "      <td>0.018109</td>\n",
       "    </tr>\n",
       "    <tr>\n",
       "      <th>15</th>\n",
       "      <td>content group 31</td>\n",
       "      <td>0.017820</td>\n",
       "    </tr>\n",
       "    <tr>\n",
       "      <th>16</th>\n",
       "      <td>content group 29</td>\n",
       "      <td>0.016208</td>\n",
       "    </tr>\n",
       "    <tr>\n",
       "      <th>17</th>\n",
       "      <td>activity group 21</td>\n",
       "      <td>0.015169</td>\n",
       "    </tr>\n",
       "    <tr>\n",
       "      <th>18</th>\n",
       "      <td>activity group 23</td>\n",
       "      <td>0.015102</td>\n",
       "    </tr>\n",
       "    <tr>\n",
       "      <th>19</th>\n",
       "      <td>activity group 25</td>\n",
       "      <td>0.013974</td>\n",
       "    </tr>\n",
       "  </tbody>\n",
       "</table>\n",
       "</div>"
      ],
      "text/plain": [
       "                              0         1\n",
       "0            score TMA group 24  0.077119\n",
       "1            score TMA group 19  0.058937\n",
       "2           weight TMA group 24  0.052077\n",
       "3   num_assessment TMA group 24  0.051056\n",
       "4             activity group 31  0.047472\n",
       "5             activity group 30  0.041408\n",
       "6   num_assessment TMA group 19  0.040455\n",
       "7            score TMA group 13  0.032159\n",
       "8             activity group 29  0.031951\n",
       "9           weight TMA group 19  0.025571\n",
       "10             content group 30  0.025052\n",
       "11            activity group 24  0.023885\n",
       "12            activity group 28  0.023023\n",
       "13            activity group 27  0.019259\n",
       "14             content group 24  0.018109\n",
       "15             content group 31  0.017820\n",
       "16             content group 29  0.016208\n",
       "17            activity group 21  0.015169\n",
       "18            activity group 23  0.015102\n",
       "19            activity group 25  0.013974"
      ]
     },
     "execution_count": 20,
     "metadata": {},
     "output_type": "execute_result"
    }
   ],
   "source": [
    "feature_imp = pd.DataFrame(sorted(list(zip(test.columns, model_1.feature_importances_)), key = lambda x: x[1], reverse=True)[0:20])\n",
    "feature_imp"
   ]
  },
  {
   "cell_type": "code",
   "execution_count": 25,
   "metadata": {},
   "outputs": [
    {
     "data": {
      "image/png": "[encoded data removed]",
      "text/plain": [
       "<matplotlib.figure.Figure at 0x25183440ac8>"
      ]
     },
     "metadata": {},
     "output_type": "display_data"
    }
   ],
   "source": [
    "plt.bar(feature_imp[0], feature_imp[1], align='center', alpha=0.99)\n",
    "plt.xticks(feature_imp[0], feature_imp[1])\n",
    "plt.ylabel('importance')\n",
    "plt.title('variable importance')\n",
    "plt.show()"
   ]
  },
  {
   "cell_type": "code",
   "execution_count": null,
   "metadata": {},
   "outputs": [],
   "source": [
    "# As expected, the strongest indicators of success and failure were tests (TMA), especially the tests taken towards the end of the course. Important online interactions mainly centered on overall activity and content activity.\n",
    "\n",
    "# Conclusion\n",
    "\n",
    "# As online learning continues to grow as a platform to educate students, it is important to consider how we can use the data associated with these programs to best identify students who are at risk for failure.\n",
    "# I use random forests to see how early student failure can be predicted. The models showed that with demographic information alone, student failure can be predicted with 60% accuracy. As weekly information on student online interactions and assessments are added, predictions for students at risk for failure greatly increase. By week 8, the model improves to 75% accurcacy, and has over 85% accuracy by week 13.\n",
    "# As educators continue to seek ways to identify students at risk for failure, this model provides a robust way to do so. However, it is not enough to find students at risk for failure. Intervention needs to be implemented to best understand how to improve the outcomes of these students."
   ]
  }
 ],
 "metadata": {
  "kernelspec": {
   "display_name": "Python 3",
   "language": "python",
   "name": "python3"
  },
  "language_info": {
   "codemirror_mode": {
    "name": "ipython",
    "version": 3
   },
   "file_extension": ".py",
   "mimetype": "text/x-python",
   "name": "python",
   "nbconvert_exporter": "python",
   "pygments_lexer": "ipython3",
   "version": "3.6.4"
  }
 },
 "nbformat": 4,
 "nbformat_minor": 2
}
